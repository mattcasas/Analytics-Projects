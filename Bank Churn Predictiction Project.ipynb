{
 "cells": [
  {
   "cell_type": "markdown",
   "id": "d7067046",
   "metadata": {},
   "source": [
    "# Bank Churn Rate Prediction/Classification"
   ]
  },
  {
   "cell_type": "markdown",
   "id": "617d003f",
   "metadata": {},
   "source": [
    "# PROJECT OVERVIEW"
   ]
  },
  {
   "cell_type": "markdown",
   "id": "527cec02",
   "metadata": {},
   "source": [
    "Bank customers come and go. It is to the bank's core interest they can keep their customers.\n",
    "\n",
    "Therefore, it is meaningful to study the customers' churn rate. Churning means that the client has left the bank. From this dataset, we can briefly look at some of the key characteristics of the customers, and can train a model for churning classification of the customers.\n",
    "\n",
    "\n",
    "\n",
    "data source: https://www.kaggle.com/datasets/gauravtopre/bank-customer-churn-dataset"
   ]
  },
  {
   "cell_type": "markdown",
   "id": "1a0d9420",
   "metadata": {},
   "source": [
    "Let's import some useful modules to start."
   ]
  },
  {
   "cell_type": "code",
   "execution_count": 1,
   "id": "34e5c656",
   "metadata": {},
   "outputs": [],
   "source": [
    "import pandas as pd\n",
    "import matplotlib as mp\n",
    "import matplotlib.pyplot as plt\n",
    "plt.style.use('classic')\n",
    "%matplotlib inline\n",
    "import seaborn as sns\n",
    "import numpy as np\n",
    "from sklearn.linear_model import LinearRegression\n",
    "import scipy as sp\n",
    "import scipy.linalg as linalg\n",
    "import statsmodels.formula.api as sm\n",
    "from sklearn import preprocessing\n",
    "from sklearn.model_selection import train_test_split\n",
    "from sklearn.tree import DecisionTreeClassifier\n",
    "from sklearn.metrics import accuracy_score, precision_score, recall_score, f1_score, confusion_matrix,ConfusionMatrixDisplay"
   ]
  },
  {
   "cell_type": "code",
   "execution_count": 3,
   "id": "03acdcb1",
   "metadata": {},
   "outputs": [],
   "source": [
    "bc=pd.read_csv(\"Bank+Customer+Churn+Prediction.csv\")"
   ]
  },
  {
   "cell_type": "markdown",
   "id": "280fc561",
   "metadata": {},
   "source": [
    "# Quick Glance of the dataset"
   ]
  },
  {
   "cell_type": "code",
   "execution_count": 4,
   "id": "1523b12b",
   "metadata": {},
   "outputs": [
    {
     "data": {
      "text/html": [
       "<div>\n",
       "<style scoped>\n",
       "    .dataframe tbody tr th:only-of-type {\n",
       "        vertical-align: middle;\n",
       "    }\n",
       "\n",
       "    .dataframe tbody tr th {\n",
       "        vertical-align: top;\n",
       "    }\n",
       "\n",
       "    .dataframe thead th {\n",
       "        text-align: right;\n",
       "    }\n",
       "</style>\n",
       "<table border=\"1\" class=\"dataframe\">\n",
       "  <thead>\n",
       "    <tr style=\"text-align: right;\">\n",
       "      <th></th>\n",
       "      <th>customer_id</th>\n",
       "      <th>credit_score</th>\n",
       "      <th>country</th>\n",
       "      <th>gender</th>\n",
       "      <th>age</th>\n",
       "      <th>tenure</th>\n",
       "      <th>balance</th>\n",
       "      <th>products_number</th>\n",
       "      <th>credit_card</th>\n",
       "      <th>active_member</th>\n",
       "      <th>estimated_salary</th>\n",
       "      <th>churn</th>\n",
       "    </tr>\n",
       "  </thead>\n",
       "  <tbody>\n",
       "    <tr>\n",
       "      <th>0</th>\n",
       "      <td>15634602</td>\n",
       "      <td>619</td>\n",
       "      <td>France</td>\n",
       "      <td>Female</td>\n",
       "      <td>42</td>\n",
       "      <td>2</td>\n",
       "      <td>0.00</td>\n",
       "      <td>1</td>\n",
       "      <td>1</td>\n",
       "      <td>1</td>\n",
       "      <td>101348.88</td>\n",
       "      <td>1</td>\n",
       "    </tr>\n",
       "    <tr>\n",
       "      <th>1</th>\n",
       "      <td>15647311</td>\n",
       "      <td>608</td>\n",
       "      <td>Spain</td>\n",
       "      <td>Female</td>\n",
       "      <td>41</td>\n",
       "      <td>1</td>\n",
       "      <td>83807.86</td>\n",
       "      <td>1</td>\n",
       "      <td>0</td>\n",
       "      <td>1</td>\n",
       "      <td>112542.58</td>\n",
       "      <td>0</td>\n",
       "    </tr>\n",
       "    <tr>\n",
       "      <th>2</th>\n",
       "      <td>15619304</td>\n",
       "      <td>502</td>\n",
       "      <td>France</td>\n",
       "      <td>Female</td>\n",
       "      <td>42</td>\n",
       "      <td>8</td>\n",
       "      <td>159660.80</td>\n",
       "      <td>3</td>\n",
       "      <td>1</td>\n",
       "      <td>0</td>\n",
       "      <td>113931.57</td>\n",
       "      <td>1</td>\n",
       "    </tr>\n",
       "    <tr>\n",
       "      <th>3</th>\n",
       "      <td>15701354</td>\n",
       "      <td>699</td>\n",
       "      <td>France</td>\n",
       "      <td>Female</td>\n",
       "      <td>39</td>\n",
       "      <td>1</td>\n",
       "      <td>0.00</td>\n",
       "      <td>2</td>\n",
       "      <td>0</td>\n",
       "      <td>0</td>\n",
       "      <td>93826.63</td>\n",
       "      <td>0</td>\n",
       "    </tr>\n",
       "    <tr>\n",
       "      <th>4</th>\n",
       "      <td>15737888</td>\n",
       "      <td>850</td>\n",
       "      <td>Spain</td>\n",
       "      <td>Female</td>\n",
       "      <td>43</td>\n",
       "      <td>2</td>\n",
       "      <td>125510.82</td>\n",
       "      <td>1</td>\n",
       "      <td>1</td>\n",
       "      <td>1</td>\n",
       "      <td>79084.10</td>\n",
       "      <td>0</td>\n",
       "    </tr>\n",
       "  </tbody>\n",
       "</table>\n",
       "</div>"
      ],
      "text/plain": [
       "   customer_id  credit_score country  gender  age  tenure    balance  \\\n",
       "0     15634602           619  France  Female   42       2       0.00   \n",
       "1     15647311           608   Spain  Female   41       1   83807.86   \n",
       "2     15619304           502  France  Female   42       8  159660.80   \n",
       "3     15701354           699  France  Female   39       1       0.00   \n",
       "4     15737888           850   Spain  Female   43       2  125510.82   \n",
       "\n",
       "   products_number  credit_card  active_member  estimated_salary  churn  \n",
       "0                1            1              1         101348.88      1  \n",
       "1                1            0              1         112542.58      0  \n",
       "2                3            1              0         113931.57      1  \n",
       "3                2            0              0          93826.63      0  \n",
       "4                1            1              1          79084.10      0  "
      ]
     },
     "execution_count": 4,
     "metadata": {},
     "output_type": "execute_result"
    }
   ],
   "source": [
    "#briefly look at the variables that we have\n",
    "bc.head()"
   ]
  },
  {
   "cell_type": "markdown",
   "id": "2202ec92",
   "metadata": {},
   "source": [
    "\n",
    "Customer_id is the unique identifier of each column. Credit_score, gender, balance, estimated_salary, active_member, and age are self-explanatory. Country represents for the country of residence of the customer. Tenure here means how many years the customer is having bank acc in ABC Bank. Credit_card is a binary variable indicating whether this customer has a credit card with the bank. Churn is dichotomous as well, with 1 meaning the customer left the bank and 0 the otherwise."
   ]
  },
  {
   "cell_type": "code",
   "execution_count": 5,
   "id": "94fba8e0",
   "metadata": {},
   "outputs": [
    {
     "name": "stdout",
     "output_type": "stream",
     "text": [
      "<class 'pandas.core.frame.DataFrame'>\n",
      "RangeIndex: 10000 entries, 0 to 9999\n",
      "Data columns (total 12 columns):\n",
      " #   Column            Non-Null Count  Dtype  \n",
      "---  ------            --------------  -----  \n",
      " 0   customer_id       10000 non-null  int64  \n",
      " 1   credit_score      10000 non-null  int64  \n",
      " 2   country           10000 non-null  object \n",
      " 3   gender            10000 non-null  object \n",
      " 4   age               10000 non-null  int64  \n",
      " 5   tenure            10000 non-null  int64  \n",
      " 6   balance           10000 non-null  float64\n",
      " 7   products_number   10000 non-null  int64  \n",
      " 8   credit_card       10000 non-null  int64  \n",
      " 9   active_member     10000 non-null  int64  \n",
      " 10  estimated_salary  10000 non-null  float64\n",
      " 11  churn             10000 non-null  int64  \n",
      "dtypes: float64(2), int64(8), object(2)\n",
      "memory usage: 937.6+ KB\n"
     ]
    }
   ],
   "source": [
    "#check about missing values\n",
    "bc.info()"
   ]
  },
  {
   "cell_type": "markdown",
   "id": "ee2f23d6",
   "metadata": {},
   "source": [
    "We can see that this dataset has 12 variables and no missing value is spotted. \n",
    "\n",
    "I am dropping the customer_id column as it does not help with the analysis."
   ]
  },
  {
   "cell_type": "code",
   "execution_count": 6,
   "id": "11fb5f0a",
   "metadata": {},
   "outputs": [],
   "source": [
    "del bc['customer_id']"
   ]
  },
  {
   "cell_type": "code",
   "execution_count": 7,
   "id": "1a9e0a44",
   "metadata": {},
   "outputs": [
    {
     "data": {
      "text/html": [
       "<div>\n",
       "<style scoped>\n",
       "    .dataframe tbody tr th:only-of-type {\n",
       "        vertical-align: middle;\n",
       "    }\n",
       "\n",
       "    .dataframe tbody tr th {\n",
       "        vertical-align: top;\n",
       "    }\n",
       "\n",
       "    .dataframe thead th {\n",
       "        text-align: right;\n",
       "    }\n",
       "</style>\n",
       "<table border=\"1\" class=\"dataframe\">\n",
       "  <thead>\n",
       "    <tr style=\"text-align: right;\">\n",
       "      <th></th>\n",
       "      <th>credit_score</th>\n",
       "      <th>country</th>\n",
       "      <th>gender</th>\n",
       "      <th>age</th>\n",
       "      <th>tenure</th>\n",
       "      <th>balance</th>\n",
       "      <th>products_number</th>\n",
       "      <th>credit_card</th>\n",
       "      <th>active_member</th>\n",
       "      <th>estimated_salary</th>\n",
       "      <th>churn</th>\n",
       "    </tr>\n",
       "  </thead>\n",
       "  <tbody>\n",
       "    <tr>\n",
       "      <th>0</th>\n",
       "      <td>619</td>\n",
       "      <td>France</td>\n",
       "      <td>Female</td>\n",
       "      <td>42</td>\n",
       "      <td>2</td>\n",
       "      <td>0.00</td>\n",
       "      <td>1</td>\n",
       "      <td>1</td>\n",
       "      <td>1</td>\n",
       "      <td>101348.88</td>\n",
       "      <td>1</td>\n",
       "    </tr>\n",
       "    <tr>\n",
       "      <th>1</th>\n",
       "      <td>608</td>\n",
       "      <td>Spain</td>\n",
       "      <td>Female</td>\n",
       "      <td>41</td>\n",
       "      <td>1</td>\n",
       "      <td>83807.86</td>\n",
       "      <td>1</td>\n",
       "      <td>0</td>\n",
       "      <td>1</td>\n",
       "      <td>112542.58</td>\n",
       "      <td>0</td>\n",
       "    </tr>\n",
       "    <tr>\n",
       "      <th>2</th>\n",
       "      <td>502</td>\n",
       "      <td>France</td>\n",
       "      <td>Female</td>\n",
       "      <td>42</td>\n",
       "      <td>8</td>\n",
       "      <td>159660.80</td>\n",
       "      <td>3</td>\n",
       "      <td>1</td>\n",
       "      <td>0</td>\n",
       "      <td>113931.57</td>\n",
       "      <td>1</td>\n",
       "    </tr>\n",
       "    <tr>\n",
       "      <th>3</th>\n",
       "      <td>699</td>\n",
       "      <td>France</td>\n",
       "      <td>Female</td>\n",
       "      <td>39</td>\n",
       "      <td>1</td>\n",
       "      <td>0.00</td>\n",
       "      <td>2</td>\n",
       "      <td>0</td>\n",
       "      <td>0</td>\n",
       "      <td>93826.63</td>\n",
       "      <td>0</td>\n",
       "    </tr>\n",
       "    <tr>\n",
       "      <th>4</th>\n",
       "      <td>850</td>\n",
       "      <td>Spain</td>\n",
       "      <td>Female</td>\n",
       "      <td>43</td>\n",
       "      <td>2</td>\n",
       "      <td>125510.82</td>\n",
       "      <td>1</td>\n",
       "      <td>1</td>\n",
       "      <td>1</td>\n",
       "      <td>79084.10</td>\n",
       "      <td>0</td>\n",
       "    </tr>\n",
       "  </tbody>\n",
       "</table>\n",
       "</div>"
      ],
      "text/plain": [
       "   credit_score country  gender  age  tenure    balance  products_number  \\\n",
       "0           619  France  Female   42       2       0.00                1   \n",
       "1           608   Spain  Female   41       1   83807.86                1   \n",
       "2           502  France  Female   42       8  159660.80                3   \n",
       "3           699  France  Female   39       1       0.00                2   \n",
       "4           850   Spain  Female   43       2  125510.82                1   \n",
       "\n",
       "   credit_card  active_member  estimated_salary  churn  \n",
       "0            1              1         101348.88      1  \n",
       "1            0              1         112542.58      0  \n",
       "2            1              0         113931.57      1  \n",
       "3            0              0          93826.63      0  \n",
       "4            1              1          79084.10      0  "
      ]
     },
     "execution_count": 7,
     "metadata": {},
     "output_type": "execute_result"
    }
   ],
   "source": [
    "bc.head()"
   ]
  },
  {
   "cell_type": "markdown",
   "id": "74fab597",
   "metadata": {},
   "source": [
    "# Descriptive stats and Visualization"
   ]
  },
  {
   "cell_type": "markdown",
   "id": "0671faaf",
   "metadata": {},
   "source": [
    "After making sure that the data is clean, we can now look at some descriptive statistics and plot some distributions to have some basic ideas about the customers."
   ]
  },
  {
   "cell_type": "code",
   "execution_count": 8,
   "id": "636f9ce0",
   "metadata": {},
   "outputs": [
    {
     "data": {
      "text/html": [
       "<div>\n",
       "<style scoped>\n",
       "    .dataframe tbody tr th:only-of-type {\n",
       "        vertical-align: middle;\n",
       "    }\n",
       "\n",
       "    .dataframe tbody tr th {\n",
       "        vertical-align: top;\n",
       "    }\n",
       "\n",
       "    .dataframe thead th {\n",
       "        text-align: right;\n",
       "    }\n",
       "</style>\n",
       "<table border=\"1\" class=\"dataframe\">\n",
       "  <thead>\n",
       "    <tr style=\"text-align: right;\">\n",
       "      <th></th>\n",
       "      <th>credit_score</th>\n",
       "      <th>age</th>\n",
       "      <th>tenure</th>\n",
       "      <th>balance</th>\n",
       "      <th>products_number</th>\n",
       "      <th>credit_card</th>\n",
       "      <th>active_member</th>\n",
       "      <th>estimated_salary</th>\n",
       "      <th>churn</th>\n",
       "    </tr>\n",
       "  </thead>\n",
       "  <tbody>\n",
       "    <tr>\n",
       "      <th>count</th>\n",
       "      <td>10000.000000</td>\n",
       "      <td>10000.000000</td>\n",
       "      <td>10000.000000</td>\n",
       "      <td>10000.000000</td>\n",
       "      <td>10000.000000</td>\n",
       "      <td>10000.00000</td>\n",
       "      <td>10000.000000</td>\n",
       "      <td>10000.000000</td>\n",
       "      <td>10000.000000</td>\n",
       "    </tr>\n",
       "    <tr>\n",
       "      <th>mean</th>\n",
       "      <td>650.528800</td>\n",
       "      <td>38.921800</td>\n",
       "      <td>5.012800</td>\n",
       "      <td>76485.889288</td>\n",
       "      <td>1.530200</td>\n",
       "      <td>0.70550</td>\n",
       "      <td>0.515100</td>\n",
       "      <td>100090.239881</td>\n",
       "      <td>0.203700</td>\n",
       "    </tr>\n",
       "    <tr>\n",
       "      <th>std</th>\n",
       "      <td>96.653299</td>\n",
       "      <td>10.487806</td>\n",
       "      <td>2.892174</td>\n",
       "      <td>62397.405202</td>\n",
       "      <td>0.581654</td>\n",
       "      <td>0.45584</td>\n",
       "      <td>0.499797</td>\n",
       "      <td>57510.492818</td>\n",
       "      <td>0.402769</td>\n",
       "    </tr>\n",
       "    <tr>\n",
       "      <th>min</th>\n",
       "      <td>350.000000</td>\n",
       "      <td>18.000000</td>\n",
       "      <td>0.000000</td>\n",
       "      <td>0.000000</td>\n",
       "      <td>1.000000</td>\n",
       "      <td>0.00000</td>\n",
       "      <td>0.000000</td>\n",
       "      <td>11.580000</td>\n",
       "      <td>0.000000</td>\n",
       "    </tr>\n",
       "    <tr>\n",
       "      <th>25%</th>\n",
       "      <td>584.000000</td>\n",
       "      <td>32.000000</td>\n",
       "      <td>3.000000</td>\n",
       "      <td>0.000000</td>\n",
       "      <td>1.000000</td>\n",
       "      <td>0.00000</td>\n",
       "      <td>0.000000</td>\n",
       "      <td>51002.110000</td>\n",
       "      <td>0.000000</td>\n",
       "    </tr>\n",
       "    <tr>\n",
       "      <th>50%</th>\n",
       "      <td>652.000000</td>\n",
       "      <td>37.000000</td>\n",
       "      <td>5.000000</td>\n",
       "      <td>97198.540000</td>\n",
       "      <td>1.000000</td>\n",
       "      <td>1.00000</td>\n",
       "      <td>1.000000</td>\n",
       "      <td>100193.915000</td>\n",
       "      <td>0.000000</td>\n",
       "    </tr>\n",
       "    <tr>\n",
       "      <th>75%</th>\n",
       "      <td>718.000000</td>\n",
       "      <td>44.000000</td>\n",
       "      <td>7.000000</td>\n",
       "      <td>127644.240000</td>\n",
       "      <td>2.000000</td>\n",
       "      <td>1.00000</td>\n",
       "      <td>1.000000</td>\n",
       "      <td>149388.247500</td>\n",
       "      <td>0.000000</td>\n",
       "    </tr>\n",
       "    <tr>\n",
       "      <th>max</th>\n",
       "      <td>850.000000</td>\n",
       "      <td>92.000000</td>\n",
       "      <td>10.000000</td>\n",
       "      <td>250898.090000</td>\n",
       "      <td>4.000000</td>\n",
       "      <td>1.00000</td>\n",
       "      <td>1.000000</td>\n",
       "      <td>199992.480000</td>\n",
       "      <td>1.000000</td>\n",
       "    </tr>\n",
       "  </tbody>\n",
       "</table>\n",
       "</div>"
      ],
      "text/plain": [
       "       credit_score           age        tenure        balance  \\\n",
       "count  10000.000000  10000.000000  10000.000000   10000.000000   \n",
       "mean     650.528800     38.921800      5.012800   76485.889288   \n",
       "std       96.653299     10.487806      2.892174   62397.405202   \n",
       "min      350.000000     18.000000      0.000000       0.000000   \n",
       "25%      584.000000     32.000000      3.000000       0.000000   \n",
       "50%      652.000000     37.000000      5.000000   97198.540000   \n",
       "75%      718.000000     44.000000      7.000000  127644.240000   \n",
       "max      850.000000     92.000000     10.000000  250898.090000   \n",
       "\n",
       "       products_number  credit_card  active_member  estimated_salary  \\\n",
       "count     10000.000000  10000.00000   10000.000000      10000.000000   \n",
       "mean          1.530200      0.70550       0.515100     100090.239881   \n",
       "std           0.581654      0.45584       0.499797      57510.492818   \n",
       "min           1.000000      0.00000       0.000000         11.580000   \n",
       "25%           1.000000      0.00000       0.000000      51002.110000   \n",
       "50%           1.000000      1.00000       1.000000     100193.915000   \n",
       "75%           2.000000      1.00000       1.000000     149388.247500   \n",
       "max           4.000000      1.00000       1.000000     199992.480000   \n",
       "\n",
       "              churn  \n",
       "count  10000.000000  \n",
       "mean       0.203700  \n",
       "std        0.402769  \n",
       "min        0.000000  \n",
       "25%        0.000000  \n",
       "50%        0.000000  \n",
       "75%        0.000000  \n",
       "max        1.000000  "
      ]
     },
     "execution_count": 8,
     "metadata": {},
     "output_type": "execute_result"
    }
   ],
   "source": [
    "bc.describe()"
   ]
  },
  {
   "cell_type": "markdown",
   "id": "c1f2a3e1",
   "metadata": {},
   "source": [
    "We can see from the descriptives that the customers' credit_score ranges from 350 to 850. All customers are above 18. We have a lot of 0-balance accounts(more than 25%) and someone's estimated_salary is 11.58 dollars. These may contain problematic values."
   ]
  },
  {
   "cell_type": "code",
   "execution_count": 9,
   "id": "87726df7",
   "metadata": {},
   "outputs": [
    {
     "data": {
      "text/plain": [
       "array(['France', 'Spain', 'Germany'], dtype=object)"
      ]
     },
     "execution_count": 9,
     "metadata": {},
     "output_type": "execute_result"
    }
   ],
   "source": [
    "bc['country'].unique()"
   ]
  },
  {
   "cell_type": "code",
   "execution_count": 10,
   "id": "053f564d",
   "metadata": {},
   "outputs": [
    {
     "data": {
      "text/plain": [
       "array(['Female', 'Male'], dtype=object)"
      ]
     },
     "execution_count": 10,
     "metadata": {},
     "output_type": "execute_result"
    }
   ],
   "source": [
    "bc['gender'].unique()"
   ]
  },
  {
   "cell_type": "code",
   "execution_count": 17,
   "id": "d2034265",
   "metadata": {},
   "outputs": [
    {
     "data": {
      "image/png": "[encoded data removed]",
      "text/plain": [
       "<Figure size 1360x640 with 4 Axes>"
      ]
     },
     "metadata": {},
     "output_type": "display_data"
    }
   ],
   "source": [
    "fig, ((ax0, ax1), (ax2, ax3)) = plt.subplots(nrows=2, ncols=2)\n",
    "plt.rcParams[\"figure.figsize\"] = (15,8)\n",
    "\n",
    "ax0.hist(bc['credit_score'], color = 'lightblue', edgecolor = 'black')\n",
    "ax0.set_title('credit score')\n",
    "\n",
    "ax1.hist(bc['age'], color = 'lightblue', edgecolor = 'black')\n",
    "ax1.set_title('age')\n",
    "\n",
    "ax2.hist(bc['balance'], color = 'lightblue', edgecolor = 'black')\n",
    "ax2.set_title('balance')\n",
    "\n",
    "\n",
    "ax3.hist(bc['estimated_salary'], color = 'lightblue', edgecolor = 'black')\n",
    "ax3.set_title('estimated_salary')\n",
    "\n",
    "fig.tight_layout()\n",
    "plt.show()\n"
   ]
  },
  {
   "cell_type": "markdown",
   "id": "4e966f4d",
   "metadata": {},
   "source": [
    "Aside from the estimated salary, the other distributions roughly resemble normal distributions. Also, there is a large portion of the data where the customers' balance is 0."
   ]
  },
  {
   "cell_type": "code",
   "execution_count": 18,
   "id": "d0a8272e",
   "metadata": {},
   "outputs": [
    {
     "data": {
      "text/plain": [
       "<AxesSubplot:xlabel='churn', ylabel='tenure'>"
      ]
     },
     "execution_count": 18,
     "metadata": {},
     "output_type": "execute_result"
    },
    {
     "data": {
      "image/png": "[encoded data removed]",
      "text/plain": [
       "<Figure size 1200x640 with 1 Axes>"
      ]
     },
     "metadata": {},
     "output_type": "display_data"
    }
   ],
   "source": [
    "#We look at the box plot for tenure by different churn rates\n",
    "sns.boxplot(x='churn', y='tenure', data=bc,color=\"pink\")"
   ]
  },
  {
   "cell_type": "markdown",
   "id": "75bb0c13",
   "metadata": {},
   "source": [
    "We can see from the box plot that the mean tenure for leaving customers and staying ones are roughly the same. The range, however, is different, with the leaving customers have a higher range."
   ]
  },
  {
   "cell_type": "code",
   "execution_count": 19,
   "id": "d358cdf5",
   "metadata": {},
   "outputs": [
    {
     "data": {
      "text/plain": [
       "<AxesSubplot:xlabel='churn', ylabel='products_number'>"
      ]
     },
     "execution_count": 19,
     "metadata": {},
     "output_type": "execute_result"
    },
    {
     "data": {
      "image/png": "[encoded data removed]",
      "text/plain": [
       "<Figure size 1200x640 with 1 Axes>"
      ]
     },
     "metadata": {},
     "output_type": "display_data"
    }
   ],
   "source": [
    "sns.boxplot(x='churn', y='products_number', color=\"pink\",data=bc)"
   ]
  },
  {
   "cell_type": "markdown",
   "id": "c4e340ba",
   "metadata": {},
   "source": [
    "From the boxplot, the number of products does not see an obvious difference between churning and staying customers."
   ]
  },
  {
   "cell_type": "code",
   "execution_count": 20,
   "id": "ea8e6459",
   "metadata": {},
   "outputs": [
    {
     "data": {
      "image/png": "[encoded data removed]",
      "text/plain": [
       "<Figure size 1200x640 with 1 Axes>"
      ]
     },
     "metadata": {},
     "output_type": "display_data"
    }
   ],
   "source": [
    "crosstb1 = pd.crosstab(bc.churn, bc.active_member)\n",
    " \n",
    "# Creating barplot\n",
    "barplot = crosstb1.plot.bar(rot=0)"
   ]
  },
  {
   "cell_type": "markdown",
   "id": "b9c17385",
   "metadata": {},
   "source": [
    "From this plot, we can see active members relatively are less likely to churn. Among churning customers there are more non-active members and among those who are staying, there are more active members."
   ]
  },
  {
   "cell_type": "code",
   "execution_count": 21,
   "id": "e625715e",
   "metadata": {},
   "outputs": [
    {
     "data": {
      "image/png": "[encoded data removed]",
      "text/plain": [
       "<Figure size 1200x640 with 1 Axes>"
      ]
     },
     "metadata": {},
     "output_type": "display_data"
    }
   ],
   "source": [
    "crosstb2 = pd.crosstab(bc.churn, bc.credit_card)\n",
    " \n",
    "# Creating barplot\n",
    "barplot = crosstb2.plot.bar(rot=0)"
   ]
  },
  {
   "cell_type": "markdown",
   "id": "a9f1056b",
   "metadata": {},
   "source": [
    "From this bar chart alone, we may not be able to conclude whether having a credit card is associated with churning."
   ]
  },
  {
   "cell_type": "markdown",
   "id": "d8fef8fe",
   "metadata": {},
   "source": [
    "# Classification Models"
   ]
  },
  {
   "cell_type": "markdown",
   "id": "4bb02b58",
   "metadata": {},
   "source": [
    "### train/test split"
   ]
  },
  {
   "cell_type": "code",
   "execution_count": 22,
   "id": "deba3dc5",
   "metadata": {},
   "outputs": [],
   "source": [
    "#encode string variables first so that the classfication models understand\n",
    "le = preprocessing.LabelEncoder()\n",
    "bc['country'] = le.fit_transform(bc['country'])\n",
    "bc['gender'] = le.fit_transform(bc['gender'])"
   ]
  },
  {
   "cell_type": "code",
   "execution_count": 23,
   "id": "f7c8efc0",
   "metadata": {},
   "outputs": [],
   "source": [
    "X= bc[['credit_score','country','gender','age','tenure','balance','products_number','credit_card','active_member','estimated_salary']]\n",
    "y= bc[[\"churn\"]]"
   ]
  },
  {
   "cell_type": "code",
   "execution_count": 24,
   "id": "8a07963c",
   "metadata": {},
   "outputs": [],
   "source": [
    "X_train, X_test, y_train, y_test = train_test_split(\n",
    "    X, y, test_size=0.2, random_state=6, stratify=y)"
   ]
  },
  {
   "cell_type": "markdown",
   "id": "d2d09b50",
   "metadata": {},
   "source": [
    "### logistic classification"
   ]
  },
  {
   "cell_type": "code",
   "execution_count": 25,
   "id": "0164c3c8",
   "metadata": {},
   "outputs": [
    {
     "name": "stderr",
     "output_type": "stream",
     "text": [
      "C:\\Users\\mattc\\anaconda3\\lib\\site-packages\\sklearn\\utils\\validation.py:993: DataConversionWarning: A column-vector y was passed when a 1d array was expected. Please change the shape of y to (n_samples, ), for example using ravel().\n",
      "  y = column_or_1d(y, warn=True)\n"
     ]
    }
   ],
   "source": [
    "from sklearn.linear_model import LogisticRegression\n",
    "\n",
    "lr = LogisticRegression(C=100.0, random_state=8, solver='lbfgs', multi_class='ovr')\n",
    "lr.fit(X_train, y_train)\n",
    "y_pred_lr = lr.predict(X_test)"
   ]
  },
  {
   "cell_type": "code",
   "execution_count": 28,
   "id": "01d440c8",
   "metadata": {},
   "outputs": [
    {
     "name": "stdout",
     "output_type": "stream",
     "text": [
      "Accurary: 0.7945\n",
      "F1 score: 0.7238345510624777\n",
      "Precision: 0.7326742657103825\n",
      "Recall: 0.7945\n"
     ]
    }
   ],
   "source": [
    "#let's see the performance of the model\n",
    "print(\"Accurary:\",lr.score(X_test,y_test))\n",
    "print(\"F1 score:\", f1_score(y_test,y_pred_lr,average=\"weighted\"))\n",
    "print(\"Precision:\", precision_score(y_test,y_pred_lr,average=\"weighted\"))\n",
    "print(\"Recall:\", recall_score(y_test,y_pred_lr,average=\"weighted\"))"
   ]
  },
  {
   "cell_type": "code",
   "execution_count": 29,
   "id": "a9f138f9",
   "metadata": {},
   "outputs": [
    {
     "data": {
      "image/png": "[encoded data removed]",
      "text/plain": [
       "<Figure size 1200x640 with 2 Axes>"
      ]
     },
     "metadata": {},
     "output_type": "display_data"
    }
   ],
   "source": [
    "#plot the confusion matrix\n",
    "con=confusion_matrix(y_test,y_pred_lr,labels=lr.classes_)\n",
    "disp = ConfusionMatrixDisplay(confusion_matrix=con, display_labels=lr.classes_)\n",
    "disp.plot(values_format=\".5g\")\n",
    "plt.show()"
   ]
  },
  {
   "cell_type": "markdown",
   "id": "9fb8d3cf",
   "metadata": {},
   "source": [
    "### Decision Tree Classification"
   ]
  },
  {
   "cell_type": "code",
   "execution_count": 30,
   "id": "48188f80",
   "metadata": {},
   "outputs": [],
   "source": [
    "tree_model = DecisionTreeClassifier(criterion='gini', \n",
    "                                    max_depth=5, \n",
    "                                    random_state=8)\n",
    "tree_model.fit(X_train,y_train)\n",
    "y_pred_tree=tree_model.predict(X_test)"
   ]
  },
  {
   "cell_type": "code",
   "execution_count": 31,
   "id": "dc835c6e",
   "metadata": {},
   "outputs": [
    {
     "name": "stdout",
     "output_type": "stream",
     "text": [
      "Accurary: 0.8445\n",
      "F1 score: 0.8293220757881764\n",
      "Precision: 0.8308006241714538\n",
      "Recall: 0.8445\n"
     ]
    }
   ],
   "source": [
    "#let's see the performance of the model\n",
    "print(\"Accurary:\",tree_model.score(X_test,y_test))\n",
    "print(\"F1 score:\", f1_score(y_test,y_pred_tree,average=\"weighted\"))\n",
    "print(\"Precision:\", precision_score(y_test,y_pred_tree,average=\"weighted\"))\n",
    "print(\"Recall:\", recall_score(y_test,y_pred_tree,average=\"weighted\"))"
   ]
  },
  {
   "cell_type": "code",
   "execution_count": 32,
   "id": "a9f64986",
   "metadata": {},
   "outputs": [
    {
     "data": {
      "image/png": "[encoded data removed]",
      "text/plain": [
       "<Figure size 1200x640 with 2 Axes>"
      ]
     },
     "metadata": {},
     "output_type": "display_data"
    }
   ],
   "source": [
    "#plot the confusion matrix\n",
    "con1=confusion_matrix(y_test,y_pred_tree,labels=tree_model.classes_)\n",
    "disp1 = ConfusionMatrixDisplay(confusion_matrix=con1, display_labels=tree_model.classes_)\n",
    "disp1.plot(values_format=\".5g\")\n",
    "plt.show()"
   ]
  },
  {
   "cell_type": "markdown",
   "id": "21fd1cd0",
   "metadata": {},
   "source": [
    "### CONCLUSIONS AND FUTURE WORK"
   ]
  },
  {
   "cell_type": "markdown",
   "id": "553054dc",
   "metadata": {},
   "source": [
    "Comparing these two models, we can see that the decision tree classification model has a higher score of accuracy. \n",
    "\n",
    "Also, as churning creates crucial financial burdens to the bank, we want to focus on the false-negative score. Using logistic classification model, we misclassified 385 customers who are actually churning as retaining customers. For the decision tree model, the number is 235, which is much smaller.\n",
    "\n",
    "Therefore, a decision tree model should be used for future prediction models."
   ]
  },
  {
   "cell_type": "code",
   "execution_count": null,
   "id": "994e9f5a",
   "metadata": {
    "collapsed": true
   },
   "outputs": [],
   "source": []
  },
  {
   "cell_type": "code",
   "execution_count": null,
   "id": "469edd57",
   "metadata": {
    "collapsed": true
   },
   "outputs": [],
   "source": []
  }
 ],
 "metadata": {
  "kernelspec": {
   "display_name": "Python 3 (ipykernel)",
   "language": "python",
   "name": "python3"
  },
  "language_info": {
   "codemirror_mode": {
    "name": "ipython",
    "version": 3
   },
   "file_extension": ".py",
   "mimetype": "text/x-python",
   "name": "python",
   "nbconvert_exporter": "python",
   "pygments_lexer": "ipython3",
   "version": "3.9.13"
  }
 },
 "nbformat": 4,
 "nbformat_minor": 5
}
