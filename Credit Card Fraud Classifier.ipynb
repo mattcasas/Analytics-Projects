{
 "cells": [
  {
   "cell_type": "markdown",
   "id": "5bd59cf0",
   "metadata": {},
   "source": [
    "### Introduction"
   ]
  },
  {
   "cell_type": "markdown",
   "id": "fb9fa4fe",
   "metadata": {},
   "source": [
    "Credit card fraud is a growing problem in the financial industry and it can cause significant losses for both consumers and businesses. The importance of accurately detecting fraudulent transactions cannot be overstated. In this analytics project, we will explore various techniques to identify credit card fraud by analyzing transaction data and identifying patterns and anomalies. The goal of this project is to develop a model that can accurately identify fraud, minimize false positive rates and prevent financial losses. The findings of this project will not only be beneficial for financial institutions but also for consumers who can take proactive measures to protect their personal and financial information from being compromised."
   ]
  },
  {
   "cell_type": "markdown",
   "id": "d00f2bda",
   "metadata": {},
   "source": [
    "### Importing Libraries"
   ]
  },
  {
   "cell_type": "code",
   "execution_count": 1,
   "id": "4b256b31",
   "metadata": {},
   "outputs": [],
   "source": [
    "import pandas as pd\n",
    "import numpy as np\n",
    "import seaborn as sns\n",
    "import matplotlib.pyplot as plt\n",
    "%matplotlib inline"
   ]
  },
  {
   "cell_type": "markdown",
   "id": "feb7e3df",
   "metadata": {},
   "source": [
    "### Data Exploration"
   ]
  },
  {
   "cell_type": "markdown",
   "id": "c425a35f",
   "metadata": {},
   "source": [
    "Importing the data frame into pandas and displaying the first five rows."
   ]
  },
  {
   "cell_type": "code",
   "execution_count": 2,
   "id": "3309f5ed",
   "metadata": {},
   "outputs": [
    {
     "data": {
      "text/html": [
       "<div>\n",
       "<style scoped>\n",
       "    .dataframe tbody tr th:only-of-type {\n",
       "        vertical-align: middle;\n",
       "    }\n",
       "\n",
       "    .dataframe tbody tr th {\n",
       "        vertical-align: top;\n",
       "    }\n",
       "\n",
       "    .dataframe thead th {\n",
       "        text-align: right;\n",
       "    }\n",
       "</style>\n",
       "<table border=\"1\" class=\"dataframe\">\n",
       "  <thead>\n",
       "    <tr style=\"text-align: right;\">\n",
       "      <th></th>\n",
       "      <th>distance_from_home</th>\n",
       "      <th>distance_from_last_transaction</th>\n",
       "      <th>ratio_to_median_purchase_price</th>\n",
       "      <th>repeat_retailer</th>\n",
       "      <th>used_chip</th>\n",
       "      <th>used_pin_number</th>\n",
       "      <th>online_order</th>\n",
       "      <th>fraud</th>\n",
       "    </tr>\n",
       "  </thead>\n",
       "  <tbody>\n",
       "    <tr>\n",
       "      <th>0</th>\n",
       "      <td>57.877857</td>\n",
       "      <td>0.311140</td>\n",
       "      <td>1.945940</td>\n",
       "      <td>1.0</td>\n",
       "      <td>1.0</td>\n",
       "      <td>0.0</td>\n",
       "      <td>0.0</td>\n",
       "      <td>0.0</td>\n",
       "    </tr>\n",
       "    <tr>\n",
       "      <th>1</th>\n",
       "      <td>10.829943</td>\n",
       "      <td>0.175592</td>\n",
       "      <td>1.294219</td>\n",
       "      <td>1.0</td>\n",
       "      <td>0.0</td>\n",
       "      <td>0.0</td>\n",
       "      <td>0.0</td>\n",
       "      <td>0.0</td>\n",
       "    </tr>\n",
       "    <tr>\n",
       "      <th>2</th>\n",
       "      <td>5.091079</td>\n",
       "      <td>0.805153</td>\n",
       "      <td>0.427715</td>\n",
       "      <td>1.0</td>\n",
       "      <td>0.0</td>\n",
       "      <td>0.0</td>\n",
       "      <td>1.0</td>\n",
       "      <td>0.0</td>\n",
       "    </tr>\n",
       "    <tr>\n",
       "      <th>3</th>\n",
       "      <td>2.247564</td>\n",
       "      <td>5.600044</td>\n",
       "      <td>0.362663</td>\n",
       "      <td>1.0</td>\n",
       "      <td>1.0</td>\n",
       "      <td>0.0</td>\n",
       "      <td>1.0</td>\n",
       "      <td>0.0</td>\n",
       "    </tr>\n",
       "    <tr>\n",
       "      <th>4</th>\n",
       "      <td>44.190936</td>\n",
       "      <td>0.566486</td>\n",
       "      <td>2.222767</td>\n",
       "      <td>1.0</td>\n",
       "      <td>1.0</td>\n",
       "      <td>0.0</td>\n",
       "      <td>1.0</td>\n",
       "      <td>0.0</td>\n",
       "    </tr>\n",
       "  </tbody>\n",
       "</table>\n",
       "</div>"
      ],
      "text/plain": [
       "   distance_from_home  distance_from_last_transaction  \\\n",
       "0           57.877857                        0.311140   \n",
       "1           10.829943                        0.175592   \n",
       "2            5.091079                        0.805153   \n",
       "3            2.247564                        5.600044   \n",
       "4           44.190936                        0.566486   \n",
       "\n",
       "   ratio_to_median_purchase_price  repeat_retailer  used_chip  \\\n",
       "0                        1.945940              1.0        1.0   \n",
       "1                        1.294219              1.0        0.0   \n",
       "2                        0.427715              1.0        0.0   \n",
       "3                        0.362663              1.0        1.0   \n",
       "4                        2.222767              1.0        1.0   \n",
       "\n",
       "   used_pin_number  online_order  fraud  \n",
       "0              0.0           0.0    0.0  \n",
       "1              0.0           0.0    0.0  \n",
       "2              0.0           1.0    0.0  \n",
       "3              0.0           1.0    0.0  \n",
       "4              0.0           1.0    0.0  "
      ]
     },
     "execution_count": 2,
     "metadata": {},
     "output_type": "execute_result"
    }
   ],
   "source": [
    "raw_df = pd.read_csv('card_transdata.csv')\n",
    "raw_df.head()"
   ]
  },
  {
   "cell_type": "code",
   "execution_count": 3,
   "id": "15ff76b5",
   "metadata": {},
   "outputs": [
    {
     "name": "stdout",
     "output_type": "stream",
     "text": [
      "Duplicated values dropped succesfully\n",
      "****************************************************************************************************\n"
     ]
    }
   ],
   "source": [
    "df = raw_df.copy()\n",
    "\n",
    "df.drop_duplicates(inplace=True)\n",
    "print(\"Duplicated values dropped succesfully\")\n",
    "print(\"*\" * 100)"
   ]
  },
  {
   "cell_type": "markdown",
   "id": "13d60f09",
   "metadata": {},
   "source": [
    "There are 8 columns all with data type float."
   ]
  },
  {
   "cell_type": "code",
   "execution_count": 4,
   "id": "93213903",
   "metadata": {},
   "outputs": [
    {
     "name": "stdout",
     "output_type": "stream",
     "text": [
      "<class 'pandas.core.frame.DataFrame'>\n",
      "Int64Index: 1000000 entries, 0 to 999999\n",
      "Data columns (total 8 columns):\n",
      " #   Column                          Non-Null Count    Dtype  \n",
      "---  ------                          --------------    -----  \n",
      " 0   distance_from_home              1000000 non-null  float64\n",
      " 1   distance_from_last_transaction  1000000 non-null  float64\n",
      " 2   ratio_to_median_purchase_price  1000000 non-null  float64\n",
      " 3   repeat_retailer                 1000000 non-null  float64\n",
      " 4   used_chip                       1000000 non-null  float64\n",
      " 5   used_pin_number                 1000000 non-null  float64\n",
      " 6   online_order                    1000000 non-null  float64\n",
      " 7   fraud                           1000000 non-null  float64\n",
      "dtypes: float64(8)\n",
      "memory usage: 68.7 MB\n"
     ]
    }
   ],
   "source": [
    "df.info()"
   ]
  },
  {
   "cell_type": "code",
   "execution_count": 5,
   "id": "56d66498",
   "metadata": {
    "scrolled": false
   },
   "outputs": [
    {
     "data": {
      "text/html": [
       "<div>\n",
       "<style scoped>\n",
       "    .dataframe tbody tr th:only-of-type {\n",
       "        vertical-align: middle;\n",
       "    }\n",
       "\n",
       "    .dataframe tbody tr th {\n",
       "        vertical-align: top;\n",
       "    }\n",
       "\n",
       "    .dataframe thead th {\n",
       "        text-align: right;\n",
       "    }\n",
       "</style>\n",
       "<table border=\"1\" class=\"dataframe\">\n",
       "  <thead>\n",
       "    <tr style=\"text-align: right;\">\n",
       "      <th></th>\n",
       "      <th>distance_from_home</th>\n",
       "      <th>distance_from_last_transaction</th>\n",
       "      <th>ratio_to_median_purchase_price</th>\n",
       "      <th>repeat_retailer</th>\n",
       "      <th>used_chip</th>\n",
       "      <th>used_pin_number</th>\n",
       "      <th>online_order</th>\n",
       "      <th>fraud</th>\n",
       "    </tr>\n",
       "  </thead>\n",
       "  <tbody>\n",
       "    <tr>\n",
       "      <th>count</th>\n",
       "      <td>1000000.000000</td>\n",
       "      <td>1000000.000000</td>\n",
       "      <td>1000000.000000</td>\n",
       "      <td>1000000.000000</td>\n",
       "      <td>1000000.000000</td>\n",
       "      <td>1000000.000000</td>\n",
       "      <td>1000000.000000</td>\n",
       "      <td>1000000.000000</td>\n",
       "    </tr>\n",
       "    <tr>\n",
       "      <th>mean</th>\n",
       "      <td>26.628792</td>\n",
       "      <td>5.036519</td>\n",
       "      <td>1.824182</td>\n",
       "      <td>0.881536</td>\n",
       "      <td>0.350399</td>\n",
       "      <td>0.100608</td>\n",
       "      <td>0.650552</td>\n",
       "      <td>0.087403</td>\n",
       "    </tr>\n",
       "    <tr>\n",
       "      <th>std</th>\n",
       "      <td>65.390784</td>\n",
       "      <td>25.843093</td>\n",
       "      <td>2.799589</td>\n",
       "      <td>0.323157</td>\n",
       "      <td>0.477095</td>\n",
       "      <td>0.300809</td>\n",
       "      <td>0.476796</td>\n",
       "      <td>0.282425</td>\n",
       "    </tr>\n",
       "    <tr>\n",
       "      <th>min</th>\n",
       "      <td>0.004874</td>\n",
       "      <td>0.000118</td>\n",
       "      <td>0.004399</td>\n",
       "      <td>0.000000</td>\n",
       "      <td>0.000000</td>\n",
       "      <td>0.000000</td>\n",
       "      <td>0.000000</td>\n",
       "      <td>0.000000</td>\n",
       "    </tr>\n",
       "    <tr>\n",
       "      <th>25%</th>\n",
       "      <td>3.878008</td>\n",
       "      <td>0.296671</td>\n",
       "      <td>0.475673</td>\n",
       "      <td>1.000000</td>\n",
       "      <td>0.000000</td>\n",
       "      <td>0.000000</td>\n",
       "      <td>0.000000</td>\n",
       "      <td>0.000000</td>\n",
       "    </tr>\n",
       "    <tr>\n",
       "      <th>50%</th>\n",
       "      <td>9.967760</td>\n",
       "      <td>0.998650</td>\n",
       "      <td>0.997717</td>\n",
       "      <td>1.000000</td>\n",
       "      <td>0.000000</td>\n",
       "      <td>0.000000</td>\n",
       "      <td>1.000000</td>\n",
       "      <td>0.000000</td>\n",
       "    </tr>\n",
       "    <tr>\n",
       "      <th>75%</th>\n",
       "      <td>25.743985</td>\n",
       "      <td>3.355748</td>\n",
       "      <td>2.096370</td>\n",
       "      <td>1.000000</td>\n",
       "      <td>1.000000</td>\n",
       "      <td>0.000000</td>\n",
       "      <td>1.000000</td>\n",
       "      <td>0.000000</td>\n",
       "    </tr>\n",
       "    <tr>\n",
       "      <th>max</th>\n",
       "      <td>10632.723672</td>\n",
       "      <td>11851.104565</td>\n",
       "      <td>267.802942</td>\n",
       "      <td>1.000000</td>\n",
       "      <td>1.000000</td>\n",
       "      <td>1.000000</td>\n",
       "      <td>1.000000</td>\n",
       "      <td>1.000000</td>\n",
       "    </tr>\n",
       "  </tbody>\n",
       "</table>\n",
       "</div>"
      ],
      "text/plain": [
       "       distance_from_home  distance_from_last_transaction  \\\n",
       "count      1000000.000000                  1000000.000000   \n",
       "mean            26.628792                        5.036519   \n",
       "std             65.390784                       25.843093   \n",
       "min              0.004874                        0.000118   \n",
       "25%              3.878008                        0.296671   \n",
       "50%              9.967760                        0.998650   \n",
       "75%             25.743985                        3.355748   \n",
       "max          10632.723672                    11851.104565   \n",
       "\n",
       "       ratio_to_median_purchase_price  repeat_retailer       used_chip  \\\n",
       "count                  1000000.000000   1000000.000000  1000000.000000   \n",
       "mean                         1.824182         0.881536        0.350399   \n",
       "std                          2.799589         0.323157        0.477095   \n",
       "min                          0.004399         0.000000        0.000000   \n",
       "25%                          0.475673         1.000000        0.000000   \n",
       "50%                          0.997717         1.000000        0.000000   \n",
       "75%                          2.096370         1.000000        1.000000   \n",
       "max                        267.802942         1.000000        1.000000   \n",
       "\n",
       "       used_pin_number    online_order           fraud  \n",
       "count   1000000.000000  1000000.000000  1000000.000000  \n",
       "mean          0.100608        0.650552        0.087403  \n",
       "std           0.300809        0.476796        0.282425  \n",
       "min           0.000000        0.000000        0.000000  \n",
       "25%           0.000000        0.000000        0.000000  \n",
       "50%           0.000000        1.000000        0.000000  \n",
       "75%           0.000000        1.000000        0.000000  \n",
       "max           1.000000        1.000000        1.000000  "
      ]
     },
     "execution_count": 5,
     "metadata": {},
     "output_type": "execute_result"
    }
   ],
   "source": [
    "df.describe()"
   ]
  },
  {
   "cell_type": "code",
   "execution_count": 6,
   "id": "4ee8be6e",
   "metadata": {},
   "outputs": [
    {
     "name": "stdout",
     "output_type": "stream",
     "text": [
      "0.0    912597\n",
      "1.0     87403\n",
      "Name: fraud, dtype: int64\n"
     ]
    }
   ],
   "source": [
    "# Count of number of fraud transactions detected in data set.\n",
    "# 87403 are fraud with 912597 transactions as legitimate.\n",
    "counts = df['fraud'].value_counts()\n",
    "print(counts)\n"
   ]
  },
  {
   "cell_type": "markdown",
   "id": "49722b8f",
   "metadata": {},
   "source": [
    "There are instances when a chip and pin can be required for a transaction. This would create double the security as a potential fraudulant transaction may not have the necessary information of both. The chip is a physical pin and the pin is a personal identification number the credit card holder creates."
   ]
  },
  {
   "cell_type": "markdown",
   "id": "611beb75",
   "metadata": {},
   "source": [
    "In the data frame there is currently 35053 data points where a chip and pin was used for the transaction."
   ]
  },
  {
   "cell_type": "code",
   "execution_count": 7,
   "id": "9efbe36c",
   "metadata": {},
   "outputs": [
    {
     "data": {
      "text/plain": [
       "(35053, 8)"
      ]
     },
     "execution_count": 7,
     "metadata": {},
     "output_type": "execute_result"
    }
   ],
   "source": [
    "filtered_df = df.loc[(df['used_chip'] == 1.0) & (df['used_pin_number'] == 1.0)]\n",
    "filtered_df.shape"
   ]
  },
  {
   "cell_type": "markdown",
   "id": "7fb19946",
   "metadata": {},
   "source": [
    "Creating a new column that utilizes both if a chip and a pin was used may yeild interesting results as dual authintication tends to be more secure thus reducing the likely hood that a transaction is fraudulant. "
   ]
  },
  {
   "cell_type": "code",
   "execution_count": 8,
   "id": "8360effb",
   "metadata": {},
   "outputs": [],
   "source": [
    "df['double_secure'] = np.where((df['used_chip'] == 1.0) & (df['used_pin_number'] == 1.0), 1.0, 0.0)"
   ]
  },
  {
   "cell_type": "markdown",
   "id": "fd2dbbd8",
   "metadata": {},
   "source": [
    "The new feature of double_secure is of data type float and there are no non null values."
   ]
  },
  {
   "cell_type": "code",
   "execution_count": 9,
   "id": "a3d998a6",
   "metadata": {},
   "outputs": [
    {
     "name": "stdout",
     "output_type": "stream",
     "text": [
      "<class 'pandas.core.frame.DataFrame'>\n",
      "Int64Index: 1000000 entries, 0 to 999999\n",
      "Data columns (total 9 columns):\n",
      " #   Column                          Non-Null Count    Dtype  \n",
      "---  ------                          --------------    -----  \n",
      " 0   distance_from_home              1000000 non-null  float64\n",
      " 1   distance_from_last_transaction  1000000 non-null  float64\n",
      " 2   ratio_to_median_purchase_price  1000000 non-null  float64\n",
      " 3   repeat_retailer                 1000000 non-null  float64\n",
      " 4   used_chip                       1000000 non-null  float64\n",
      " 5   used_pin_number                 1000000 non-null  float64\n",
      " 6   online_order                    1000000 non-null  float64\n",
      " 7   fraud                           1000000 non-null  float64\n",
      " 8   double_secure                   1000000 non-null  float64\n",
      "dtypes: float64(9)\n",
      "memory usage: 76.3 MB\n"
     ]
    }
   ],
   "source": [
    "df.info()"
   ]
  },
  {
   "cell_type": "code",
   "execution_count": 10,
   "id": "45be2a1b",
   "metadata": {},
   "outputs": [
    {
     "name": "stdout",
     "output_type": "stream",
     "text": [
      "0.0    964947\n",
      "1.0     35053\n",
      "Name: double_secure, dtype: int64\n"
     ]
    }
   ],
   "source": [
    "counts = df['double_secure'].value_counts()\n",
    "print(counts)"
   ]
  },
  {
   "cell_type": "markdown",
   "id": "dfc1efb2",
   "metadata": {},
   "source": [
    "By taking the columns where there is the dual authentication of a chip and pin being used we can see how many of the tranasction were fraudulant."
   ]
  },
  {
   "cell_type": "code",
   "execution_count": 11,
   "id": "004f98cd",
   "metadata": {},
   "outputs": [
    {
     "name": "stdout",
     "output_type": "stream",
     "text": [
      "The number of fraudulant transaction from the dual authenticated transactions is:  9\n"
     ]
    }
   ],
   "source": [
    "# Select the rows where both values in columns 'double_secure' and 'fraud' equal 1.0\n",
    "selected_rows = df[(df['double_secure'] == 1.0) & (df['fraud'] == 1.0)]\n",
    "\n",
    "# Count the number of selected rows\n",
    "count = len(selected_rows)\n",
    "\n",
    "print(\"The number of fraudulant transaction from the dual authenticated transactions is: \", count)"
   ]
  },
  {
   "cell_type": "code",
   "execution_count": 12,
   "id": "4b5e80ee",
   "metadata": {},
   "outputs": [
    {
     "name": "stdout",
     "output_type": "stream",
     "text": [
      "Number of rows where values in columns 'double_secure' equal 1.0 and 'fraud' equal 0.0: 35044\n"
     ]
    }
   ],
   "source": [
    "# Select the rows where both values in columns 'double_secure' and 'fraud' equal 1.0\n",
    "selected_rows = df[(df['double_secure'] == 1.0) & (df['fraud'] == 0.0)]\n",
    "\n",
    "# Count the number of selected rows\n",
    "new_count = len(selected_rows)\n",
    "\n",
    "print(\"Number of rows where values in columns 'double_secure' equal 1.0 and 'fraud' equal 0.0:\", new_count)"
   ]
  },
  {
   "cell_type": "markdown",
   "id": "9c3ac64d",
   "metadata": {},
   "source": [
    "Calculating the conditional probability such that the probability of fraud given a transaction is dual authenticated yields.\n",
    "\n",
    "The conditional probability formula:"
   ]
  },
  {
   "cell_type": "markdown",
   "id": "f09e25ff",
   "metadata": {},
   "source": [
    "$$P(fraud|double secure) = \\frac{P(fraud \\cap double secure)}{P(double secure)}$$"
   ]
  },
  {
   "cell_type": "code",
   "execution_count": 13,
   "id": "def8f8ae",
   "metadata": {},
   "outputs": [],
   "source": [
    "def conditional_probability(p_a_and_b, p_b):\n",
    "    p_a_given_b = p_a_and_b / p_b\n",
    "    return p_a_given_b"
   ]
  },
  {
   "cell_type": "code",
   "execution_count": 14,
   "id": "d5413378",
   "metadata": {},
   "outputs": [
    {
     "name": "stdout",
     "output_type": "stream",
     "text": [
      "P(fraud|double_secure) =  0.000257\n"
     ]
    }
   ],
   "source": [
    "p_a_and_b = count/df.shape[0]\n",
    "p_b = 35053/df.shape[0]\n",
    "\n",
    "result = round(conditional_probability(p_a_and_b, p_b),6)\n",
    "print(\"P(fraud|double_secure) = \", result)"
   ]
  },
  {
   "cell_type": "markdown",
   "id": "b4eae42a",
   "metadata": {},
   "source": [
    "From our data it can be computed that if a transaction has dual authentication meaning a chip and pin were both used for a transaction, then the probability of the transaction being fradulant is 0.0257 %. "
   ]
  },
  {
   "cell_type": "markdown",
   "id": "4c4a9e32",
   "metadata": {},
   "source": [
    "### Data Visualization"
   ]
  },
  {
   "cell_type": "code",
   "execution_count": 15,
   "id": "5e738dab",
   "metadata": {},
   "outputs": [
    {
     "data": {
      "image/png": "[encoded data removed]",
      "text/plain": [
       "<Figure size 640x480 with 1 Axes>"
      ]
     },
     "metadata": {},
     "output_type": "display_data"
    }
   ],
   "source": [
    "sns.countplot(x ='fraud', data = df)\n",
    " \n",
    "# Show the plot\n",
    "plt.show()"
   ]
  },
  {
   "cell_type": "code",
   "execution_count": 16,
   "id": "9a9d48d8",
   "metadata": {},
   "outputs": [
    {
     "data": {
      "image/png": "[encoded data removed]",
      "text/plain": [
       "<Figure size 640x480 with 1 Axes>"
      ]
     },
     "metadata": {},
     "output_type": "display_data"
    }
   ],
   "source": [
    "sns.countplot(x ='fraud', data = df, hue = 'double_secure')\n",
    " \n",
    "# Show the plot\n",
    "plt.show()"
   ]
  },
  {
   "cell_type": "code",
   "execution_count": 17,
   "id": "17642236",
   "metadata": {},
   "outputs": [
    {
     "data": {
      "text/html": [
       "<div>\n",
       "<style scoped>\n",
       "    .dataframe tbody tr th:only-of-type {\n",
       "        vertical-align: middle;\n",
       "    }\n",
       "\n",
       "    .dataframe tbody tr th {\n",
       "        vertical-align: top;\n",
       "    }\n",
       "\n",
       "    .dataframe thead th {\n",
       "        text-align: right;\n",
       "    }\n",
       "</style>\n",
       "<table border=\"1\" class=\"dataframe\">\n",
       "  <thead>\n",
       "    <tr style=\"text-align: right;\">\n",
       "      <th></th>\n",
       "      <th>distance_from_home</th>\n",
       "      <th>distance_from_last_transaction</th>\n",
       "      <th>ratio_to_median_purchase_price</th>\n",
       "      <th>repeat_retailer</th>\n",
       "      <th>used_chip</th>\n",
       "      <th>used_pin_number</th>\n",
       "      <th>online_order</th>\n",
       "      <th>fraud</th>\n",
       "      <th>double_secure</th>\n",
       "    </tr>\n",
       "  </thead>\n",
       "  <tbody>\n",
       "    <tr>\n",
       "      <th>0</th>\n",
       "      <td>57.877857</td>\n",
       "      <td>0.311140</td>\n",
       "      <td>1.945940</td>\n",
       "      <td>1.0</td>\n",
       "      <td>1.0</td>\n",
       "      <td>0.0</td>\n",
       "      <td>0.0</td>\n",
       "      <td>0.0</td>\n",
       "      <td>0.0</td>\n",
       "    </tr>\n",
       "    <tr>\n",
       "      <th>1</th>\n",
       "      <td>10.829943</td>\n",
       "      <td>0.175592</td>\n",
       "      <td>1.294219</td>\n",
       "      <td>1.0</td>\n",
       "      <td>0.0</td>\n",
       "      <td>0.0</td>\n",
       "      <td>0.0</td>\n",
       "      <td>0.0</td>\n",
       "      <td>0.0</td>\n",
       "    </tr>\n",
       "    <tr>\n",
       "      <th>2</th>\n",
       "      <td>5.091079</td>\n",
       "      <td>0.805153</td>\n",
       "      <td>0.427715</td>\n",
       "      <td>1.0</td>\n",
       "      <td>0.0</td>\n",
       "      <td>0.0</td>\n",
       "      <td>1.0</td>\n",
       "      <td>0.0</td>\n",
       "      <td>0.0</td>\n",
       "    </tr>\n",
       "    <tr>\n",
       "      <th>3</th>\n",
       "      <td>2.247564</td>\n",
       "      <td>5.600044</td>\n",
       "      <td>0.362663</td>\n",
       "      <td>1.0</td>\n",
       "      <td>1.0</td>\n",
       "      <td>0.0</td>\n",
       "      <td>1.0</td>\n",
       "      <td>0.0</td>\n",
       "      <td>0.0</td>\n",
       "    </tr>\n",
       "    <tr>\n",
       "      <th>4</th>\n",
       "      <td>44.190936</td>\n",
       "      <td>0.566486</td>\n",
       "      <td>2.222767</td>\n",
       "      <td>1.0</td>\n",
       "      <td>1.0</td>\n",
       "      <td>0.0</td>\n",
       "      <td>1.0</td>\n",
       "      <td>0.0</td>\n",
       "      <td>0.0</td>\n",
       "    </tr>\n",
       "  </tbody>\n",
       "</table>\n",
       "</div>"
      ],
      "text/plain": [
       "   distance_from_home  distance_from_last_transaction  \\\n",
       "0           57.877857                        0.311140   \n",
       "1           10.829943                        0.175592   \n",
       "2            5.091079                        0.805153   \n",
       "3            2.247564                        5.600044   \n",
       "4           44.190936                        0.566486   \n",
       "\n",
       "   ratio_to_median_purchase_price  repeat_retailer  used_chip  \\\n",
       "0                        1.945940              1.0        1.0   \n",
       "1                        1.294219              1.0        0.0   \n",
       "2                        0.427715              1.0        0.0   \n",
       "3                        0.362663              1.0        1.0   \n",
       "4                        2.222767              1.0        1.0   \n",
       "\n",
       "   used_pin_number  online_order  fraud  double_secure  \n",
       "0              0.0           0.0    0.0            0.0  \n",
       "1              0.0           0.0    0.0            0.0  \n",
       "2              0.0           1.0    0.0            0.0  \n",
       "3              0.0           1.0    0.0            0.0  \n",
       "4              0.0           1.0    0.0            0.0  "
      ]
     },
     "execution_count": 17,
     "metadata": {},
     "output_type": "execute_result"
    }
   ],
   "source": [
    "df.head()"
   ]
  },
  {
   "cell_type": "markdown",
   "id": "1b72a737",
   "metadata": {},
   "source": [
    "From the scatter plot we can see there is relatively little to no correlation betweeen the two features. What can be observed is most transactions occur from 0 to 2000 between both distance from home and distance from last transaction. "
   ]
  },
  {
   "cell_type": "code",
   "execution_count": 18,
   "id": "69e076ac",
   "metadata": {},
   "outputs": [
    {
     "data": {
      "image/png": "[encoded data removed]",
      "text/plain": [
       "<Figure size 640x480 with 1 Axes>"
      ]
     },
     "metadata": {},
     "output_type": "display_data"
    }
   ],
   "source": [
    "sns.scatterplot(x='distance_from_home', y='distance_from_last_transaction', data=df, alpha=0.25)\n",
    "plt.title('Scatter Plot of Data')\n",
    "plt.xlabel('distance_from_home')\n",
    "plt.ylabel('distance_from_last_transaction')\n",
    "plt.show()"
   ]
  },
  {
   "cell_type": "markdown",
   "id": "01eb37cd",
   "metadata": {},
   "source": [
    "From the correlation heat map it can be observed the highest correlated variable to fraud is the ratio to median purchase price. This makes rationale sense as individuals typically spend a unique average per transaction. What would be a good indicator of fraud are purchases significantly above or below an average customers purchase amount. In addition, the next highest correlations are distance from home and online orders. "
   ]
  },
  {
   "cell_type": "code",
   "execution_count": 19,
   "id": "57ccbf80",
   "metadata": {},
   "outputs": [
    {
     "data": {
      "image/png": "[encoded data removed]",
      "text/plain": [
       "<Figure size 640x480 with 2 Axes>"
      ]
     },
     "metadata": {},
     "output_type": "display_data"
    }
   ],
   "source": [
    "corr = df.corr()\n",
    "\n",
    "sns.heatmap(corr, annot=True, cmap='coolwarm')\n",
    "plt.title('Correlation Heat Map')\n",
    "plt.show()"
   ]
  },
  {
   "cell_type": "markdown",
   "id": "8e5bc033",
   "metadata": {},
   "source": [
    "### Convert data into Numpy Array"
   ]
  },
  {
   "cell_type": "code",
   "execution_count": 20,
   "id": "718798cf",
   "metadata": {},
   "outputs": [],
   "source": [
    "scale_df = df[['distance_from_home', 'distance_from_last_transaction',\n",
    "       'ratio_to_median_purchase_price']]\n",
    "\n",
    "binary_df = df[['repeat_retailer', 'used_chip', 'used_pin_number', 'online_order', 'double_secure', 'fraud']]"
   ]
  },
  {
   "cell_type": "code",
   "execution_count": 21,
   "id": "6e07e557",
   "metadata": {},
   "outputs": [
    {
     "name": "stdout",
     "output_type": "stream",
     "text": [
      "<class 'numpy.ndarray'>\n",
      "The size of the numpy array is: (1000000, 3)\n"
     ]
    }
   ],
   "source": [
    "data = scale_df.values\n",
    "\n",
    "print(type(data))\n",
    "print('The size of the numpy array is:', data.shape)"
   ]
  },
  {
   "cell_type": "code",
   "execution_count": 22,
   "id": "ee420083",
   "metadata": {},
   "outputs": [
    {
     "name": "stdout",
     "output_type": "stream",
     "text": [
      "<class 'numpy.ndarray'>\n",
      "The size of the numpy array is: (1000000, 6)\n"
     ]
    }
   ],
   "source": [
    "binary_data = binary_df.values\n",
    "\n",
    "print(type(data))\n",
    "print('The size of the numpy array is:', binary_data.shape)"
   ]
  },
  {
   "cell_type": "markdown",
   "id": "1a2bad57",
   "metadata": {},
   "source": [
    "### Standardize the Data"
   ]
  },
  {
   "cell_type": "code",
   "execution_count": 23,
   "id": "23c08b9a",
   "metadata": {},
   "outputs": [],
   "source": [
    "from sklearn.preprocessing import StandardScaler\n",
    "\n",
    "def scale_data(data):\n",
    "    scaler = StandardScaler()\n",
    "    return scaler.fit_transform(data)"
   ]
  },
  {
   "cell_type": "code",
   "execution_count": 24,
   "id": "91d3798d",
   "metadata": {},
   "outputs": [],
   "source": [
    "scaled_data = scale_data(data)"
   ]
  },
  {
   "cell_type": "code",
   "execution_count": 25,
   "id": "bb43df61",
   "metadata": {},
   "outputs": [
    {
     "data": {
      "text/plain": [
       "array([[ 0.47788202, -0.18284892,  0.04349141],\n",
       "       [-0.24160679, -0.18809398, -0.18930045],\n",
       "       [-0.3293694 , -0.16373307, -0.49881185],\n",
       "       ...,\n",
       "       [-0.36264968, -0.13790278, -0.57369398],\n",
       "       [-0.34209827, -0.1855234 , -0.48162807],\n",
       "       [ 0.48140344, -0.18257921, -0.51338354]])"
      ]
     },
     "execution_count": 25,
     "metadata": {},
     "output_type": "execute_result"
    }
   ],
   "source": [
    "scaled_data"
   ]
  },
  {
   "cell_type": "markdown",
   "id": "6cdad073",
   "metadata": {},
   "source": [
    "We need to rejoin binary data to the scaled data. The numpy array should be (1000000, 9)."
   ]
  },
  {
   "cell_type": "code",
   "execution_count": 26,
   "id": "26801c7a",
   "metadata": {},
   "outputs": [
    {
     "name": "stdout",
     "output_type": "stream",
     "text": [
      "The size of the numpy array is (1000000, 9)\n"
     ]
    }
   ],
   "source": [
    "data = np.column_stack((scaled_data, binary_data))\n",
    "\n",
    "print(\"The size of the numpy array is\", data.shape)"
   ]
  },
  {
   "cell_type": "markdown",
   "id": "8909c9a4",
   "metadata": {},
   "source": [
    "Displaying first five rows of the standardized data. "
   ]
  },
  {
   "cell_type": "code",
   "execution_count": 27,
   "id": "258a8fc1",
   "metadata": {},
   "outputs": [
    {
     "name": "stdout",
     "output_type": "stream",
     "text": [
      "[[ 0.47788202 -0.18284892  0.04349141  1.          1.          0.\n",
      "   0.          0.          0.        ]\n",
      " [-0.24160679 -0.18809398 -0.18930045  1.          0.          0.\n",
      "   0.          0.          0.        ]\n",
      " [-0.3293694  -0.16373307 -0.49881185  1.          0.          0.\n",
      "   1.          0.          0.        ]\n",
      " [-0.37285438  0.02180561 -0.52204812  1.          1.          0.\n",
      "   1.          0.          0.        ]\n",
      " [ 0.26857229 -0.17296828  0.14237287  1.          1.          0.\n",
      "   1.          0.          0.        ]]\n"
     ]
    }
   ],
   "source": [
    "print(data[:5, :])"
   ]
  },
  {
   "cell_type": "markdown",
   "id": "c59f78a9",
   "metadata": {},
   "source": [
    "### Split data into training and testing"
   ]
  },
  {
   "cell_type": "markdown",
   "id": "90956c88",
   "metadata": {},
   "source": [
    "Stratified splitting means that when you generate a training / validation dataset split, it will attempt to keep the same percentages of classes in each split."
   ]
  },
  {
   "cell_type": "code",
   "execution_count": 28,
   "id": "9fb59d81",
   "metadata": {},
   "outputs": [
    {
     "name": "stdout",
     "output_type": "stream",
     "text": [
      "y_train: [0. 0. 0. ... 1. 0. 0.]\n",
      "y_test: [0. 0. 0. ... 0. 0. 1.]\n"
     ]
    }
   ],
   "source": [
    "from sklearn.model_selection import train_test_split\n",
    "from sklearn.ensemble import RandomForestClassifier\n",
    "# Create a sample data set\n",
    "X = data[:, 0:9]\n",
    "y = data[:, -1]\n",
    "\n",
    "# Split the data into training and testing sets\n",
    "X_train, X_test, y_train, y_test = train_test_split(X, y, test_size=0.3, stratify=y, random_state=42)\n",
    "\n",
    "print(\"y_train:\", y_train)\n",
    "print(\"y_test:\", y_test)"
   ]
  },
  {
   "cell_type": "code",
   "execution_count": 29,
   "id": "d02d0ea3",
   "metadata": {},
   "outputs": [
    {
     "data": {
      "text/plain": [
       "RandomForestClassifier()"
      ]
     },
     "execution_count": 29,
     "metadata": {},
     "output_type": "execute_result"
    }
   ],
   "source": [
    "from sklearn.ensemble import RandomForestClassifier # for classification\n",
    "model = RandomForestClassifier(n_estimators=100)\n",
    "model.fit(X_train, y_train)"
   ]
  },
  {
   "cell_type": "code",
   "execution_count": 30,
   "id": "e7f4ec3b",
   "metadata": {},
   "outputs": [
    {
     "name": "stdout",
     "output_type": "stream",
     "text": [
      "Accuracy: 1.0\n"
     ]
    }
   ],
   "source": [
    "y_pred = model.predict(X_test)\n",
    "from sklearn.metrics import accuracy_score\n",
    "print(\"Accuracy:\", accuracy_score(y_test, y_pred))"
   ]
  },
  {
   "cell_type": "code",
   "execution_count": 31,
   "id": "597c8b5f",
   "metadata": {},
   "outputs": [
    {
     "name": "stdout",
     "output_type": "stream",
     "text": [
      "Precision: 1.0\n",
      "Recall: 1.0\n",
      "F1 Score: 1.0\n"
     ]
    }
   ],
   "source": [
    "# calculate precision, recall, F1-score, and support\n",
    "from sklearn.metrics import precision_recall_fscore_support\n",
    "\n",
    "precision, recall, f1_score, support = precision_recall_fscore_support(y_test, y_pred, average='binary')\n",
    "\n",
    "print(\"Precision:\", precision)\n",
    "print(\"Recall:\", recall)\n",
    "print(\"F1 Score:\", f1_score)"
   ]
  },
  {
   "cell_type": "markdown",
   "id": "c55ec9ac",
   "metadata": {},
   "source": [
    "If precision, recall, and F1 score are all 1.0, it means that the model has a perfect performance on the test set. It means that the model is making no false positive or false negative predictions, and it is correctly identifying all positive instances and correctly rejecting all negative instances.\n",
    "\n",
    "While a perfect score on precision, recall, and F1 is a great indicator of good model performance, it is important to keep in mind that it is possible for a model to achieve perfect scores and still be overfitting the data. This can happen if the test set is very small, or if the test set is too similar to the training set. In these cases, it is possible for the model to have memorized the training data and perform poorly on new, unseen data."
   ]
  },
  {
   "cell_type": "code",
   "execution_count": 32,
   "id": "de853e67",
   "metadata": {},
   "outputs": [
    {
     "name": "stdout",
     "output_type": "stream",
     "text": [
      "Accuracy: 1.00 (+/- 0.00)\n"
     ]
    }
   ],
   "source": [
    "from sklearn.model_selection import cross_val_score\n",
    "\n",
    "# create your model\n",
    "clf = RandomForestClassifier(n_estimators=100)\n",
    "\n",
    "# perform cross-validation with 10 folds\n",
    "scores = cross_val_score(clf, X, y, cv=5)\n",
    "\n",
    "# print the average accuracy score\n",
    "print(\"Accuracy: %0.2f (+/- %0.2f)\" % (scores.mean(), scores.std() * 2))"
   ]
  },
  {
   "cell_type": "markdown",
   "id": "0b0b8dad",
   "metadata": {},
   "source": [
    "If the scores from cross-validation are all 1.0, it means that the model is performing exceptionally well on the data, achieving a perfect accuracy score in each fold. A high cross-validation score is a strong indicator that the model is generalizing well to new, unseen data, and is not overfitting the training data.\n",
    "\n",
    "However, even if the cross-validation scores are all 1.0, it is still important to validate the model on a separate test set. The test set should be held out from the training and validation process and only used for final evaluation. This will give you a more robust estimate of the model's performance on unseen data."
   ]
  },
  {
   "cell_type": "code",
   "execution_count": 33,
   "id": "645b2bfc",
   "metadata": {
    "scrolled": false
   },
   "outputs": [
    {
     "data": {
      "image/png": "[encoded data removed]",
      "text/plain": [
       "<Figure size 640x480 with 2 Axes>"
      ]
     },
     "metadata": {},
     "output_type": "display_data"
    }
   ],
   "source": [
    "from sklearn.metrics import confusion_matrix\n",
    "cm = confusion_matrix(y_test, y_pred)\n",
    "sns.set(font_scale=1.4)\n",
    "sns.heatmap(cm, annot=True, annot_kws={\"size\": 16}, fmt=\"d\")\n",
    "\n",
    "plt.show()"
   ]
  },
  {
   "cell_type": "markdown",
   "id": "2bc2cdd5",
   "metadata": {},
   "source": [
    "### Conclusion"
   ]
  },
  {
   "cell_type": "markdown",
   "id": "e5e3916e",
   "metadata": {},
   "source": [
    "While the random forest classification model can predict near perfect results, this likely arises from the fact that the data set is imbalanced. Over 9/10 of the data is non-fraudulant which regardless of a model if one were to guess non-fraudulant for every test point one would be correct 91% of the time. One interesting insight was the conditional probability of the data set. It was found that if a transaction was processed using a chip and a pin the probability of it being fraudulant was 0.0257 %. From a credit card company standpoint, requiring dual authorization for a transaction of a very large purchase price may significantly reduce the number of fraud the company may be liable for. "
   ]
  },
  {
   "cell_type": "markdown",
   "id": "bda51d55",
   "metadata": {},
   "source": [
    "A quick glance of the imbalance in the data set for the predicted classification variable."
   ]
  },
  {
   "cell_type": "code",
   "execution_count": 34,
   "id": "7f853598",
   "metadata": {},
   "outputs": [
    {
     "name": "stdout",
     "output_type": "stream",
     "text": [
      "0.0    912597\n",
      "1.0     87403\n",
      "Name: fraud, dtype: int64\n"
     ]
    }
   ],
   "source": [
    "counts = df['fraud'].value_counts()\n",
    "print(counts)"
   ]
  },
  {
   "cell_type": "code",
   "execution_count": 35,
   "id": "123a1235",
   "metadata": {},
   "outputs": [
    {
     "name": "stdout",
     "output_type": "stream",
     "text": [
      "The percentage of non-fradulant transactions in the data set is: 0.913 %\n"
     ]
    }
   ],
   "source": [
    "result = round(( 912597 / df.shape[0] ), 3)\n",
    "print('The percentage of non-fradulant transactions in the data set is:', result, \"%\")"
   ]
  },
  {
   "cell_type": "markdown",
   "id": "2ead6efc",
   "metadata": {},
   "source": [
    "### Post Factum"
   ]
  },
  {
   "cell_type": "markdown",
   "id": "ed59a087",
   "metadata": {},
   "source": [
    "An attempt at rebalancing the data set yields a similar accuracy in the Random Forest Classification model."
   ]
  },
  {
   "cell_type": "code",
   "execution_count": 36,
   "id": "4ddc2e9e",
   "metadata": {},
   "outputs": [
    {
     "data": {
      "text/html": [
       "<div>\n",
       "<style scoped>\n",
       "    .dataframe tbody tr th:only-of-type {\n",
       "        vertical-align: middle;\n",
       "    }\n",
       "\n",
       "    .dataframe tbody tr th {\n",
       "        vertical-align: top;\n",
       "    }\n",
       "\n",
       "    .dataframe thead th {\n",
       "        text-align: right;\n",
       "    }\n",
       "</style>\n",
       "<table border=\"1\" class=\"dataframe\">\n",
       "  <thead>\n",
       "    <tr style=\"text-align: right;\">\n",
       "      <th></th>\n",
       "      <th>distance_from_home</th>\n",
       "      <th>distance_from_last_transaction</th>\n",
       "      <th>ratio_to_median_purchase_price</th>\n",
       "      <th>repeat_retailer</th>\n",
       "      <th>used_chip</th>\n",
       "      <th>used_pin_number</th>\n",
       "      <th>online_order</th>\n",
       "      <th>fraud</th>\n",
       "      <th>double_secure</th>\n",
       "    </tr>\n",
       "  </thead>\n",
       "  <tbody>\n",
       "    <tr>\n",
       "      <th>0</th>\n",
       "      <td>57.877857</td>\n",
       "      <td>0.311140</td>\n",
       "      <td>1.945940</td>\n",
       "      <td>1.0</td>\n",
       "      <td>1.0</td>\n",
       "      <td>0.0</td>\n",
       "      <td>0.0</td>\n",
       "      <td>0.0</td>\n",
       "      <td>0.0</td>\n",
       "    </tr>\n",
       "    <tr>\n",
       "      <th>1</th>\n",
       "      <td>10.829943</td>\n",
       "      <td>0.175592</td>\n",
       "      <td>1.294219</td>\n",
       "      <td>1.0</td>\n",
       "      <td>0.0</td>\n",
       "      <td>0.0</td>\n",
       "      <td>0.0</td>\n",
       "      <td>0.0</td>\n",
       "      <td>0.0</td>\n",
       "    </tr>\n",
       "    <tr>\n",
       "      <th>2</th>\n",
       "      <td>5.091079</td>\n",
       "      <td>0.805153</td>\n",
       "      <td>0.427715</td>\n",
       "      <td>1.0</td>\n",
       "      <td>0.0</td>\n",
       "      <td>0.0</td>\n",
       "      <td>1.0</td>\n",
       "      <td>0.0</td>\n",
       "      <td>0.0</td>\n",
       "    </tr>\n",
       "    <tr>\n",
       "      <th>3</th>\n",
       "      <td>2.247564</td>\n",
       "      <td>5.600044</td>\n",
       "      <td>0.362663</td>\n",
       "      <td>1.0</td>\n",
       "      <td>1.0</td>\n",
       "      <td>0.0</td>\n",
       "      <td>1.0</td>\n",
       "      <td>0.0</td>\n",
       "      <td>0.0</td>\n",
       "    </tr>\n",
       "    <tr>\n",
       "      <th>4</th>\n",
       "      <td>44.190936</td>\n",
       "      <td>0.566486</td>\n",
       "      <td>2.222767</td>\n",
       "      <td>1.0</td>\n",
       "      <td>1.0</td>\n",
       "      <td>0.0</td>\n",
       "      <td>1.0</td>\n",
       "      <td>0.0</td>\n",
       "      <td>0.0</td>\n",
       "    </tr>\n",
       "  </tbody>\n",
       "</table>\n",
       "</div>"
      ],
      "text/plain": [
       "   distance_from_home  distance_from_last_transaction  \\\n",
       "0           57.877857                        0.311140   \n",
       "1           10.829943                        0.175592   \n",
       "2            5.091079                        0.805153   \n",
       "3            2.247564                        5.600044   \n",
       "4           44.190936                        0.566486   \n",
       "\n",
       "   ratio_to_median_purchase_price  repeat_retailer  used_chip  \\\n",
       "0                        1.945940              1.0        1.0   \n",
       "1                        1.294219              1.0        0.0   \n",
       "2                        0.427715              1.0        0.0   \n",
       "3                        0.362663              1.0        1.0   \n",
       "4                        2.222767              1.0        1.0   \n",
       "\n",
       "   used_pin_number  online_order  fraud  double_secure  \n",
       "0              0.0           0.0    0.0            0.0  \n",
       "1              0.0           0.0    0.0            0.0  \n",
       "2              0.0           1.0    0.0            0.0  \n",
       "3              0.0           1.0    0.0            0.0  \n",
       "4              0.0           1.0    0.0            0.0  "
      ]
     },
     "execution_count": 36,
     "metadata": {},
     "output_type": "execute_result"
    }
   ],
   "source": [
    "df.head()"
   ]
  },
  {
   "cell_type": "markdown",
   "id": "344918eb",
   "metadata": {},
   "source": [
    "While the random forest classification model can predict near perfect results, this likely arises from the fact that the data set is imbalanced. Over 9/10 of the data is non-fraudulant which regardless of a model if one were to guess non-fraudulant for every test point one would be correct 91% of the time. One interesting insight was the conditional probability of the data set. It was found that if a transaction was processed using a chip and a pin the probability of it being fraudulant was 0.0257 %. From a credit card company standpoint, requiring dual authorization for a transaction of a very large purchase price may significantly reduce the number of fraud the company may be liable for. "
   ]
  },
  {
   "cell_type": "code",
   "execution_count": 37,
   "id": "d9d8be7b",
   "metadata": {},
   "outputs": [
    {
     "data": {
      "text/plain": [
       "912597"
      ]
     },
     "execution_count": 37,
     "metadata": {},
     "output_type": "execute_result"
    }
   ],
   "source": [
    "#non fraudalent cases \n",
    "mask = df['fraud'] == 0.0 \n",
    "sample_df = df[mask]\n",
    "sample_df.shape[0]"
   ]
  },
  {
   "cell_type": "code",
   "execution_count": 38,
   "id": "3a302c7a",
   "metadata": {},
   "outputs": [],
   "source": [
    "# Set the number of rows to be kept\n",
    "keep_rows = 90000\n",
    "\n",
    "# Randomly select the rows to be kept\n",
    "balanced_df = sample_df.sample(n=keep_rows, replace=False)"
   ]
  },
  {
   "cell_type": "code",
   "execution_count": 39,
   "id": "64405ed2",
   "metadata": {},
   "outputs": [
    {
     "data": {
      "text/plain": [
       "90000"
      ]
     },
     "execution_count": 39,
     "metadata": {},
     "output_type": "execute_result"
    }
   ],
   "source": [
    "balanced_df.shape[0]"
   ]
  },
  {
   "cell_type": "code",
   "execution_count": 40,
   "id": "8ef03a13",
   "metadata": {},
   "outputs": [],
   "source": [
    "# # Concatenate the dataframes along the rows\n",
    "mask = df['fraud'] == 1.0\n",
    "fraud_df = df[mask]"
   ]
  },
  {
   "cell_type": "code",
   "execution_count": 41,
   "id": "bad7b1a8",
   "metadata": {},
   "outputs": [],
   "source": [
    "new_df = pd.concat([fraud_df, balanced_df])"
   ]
  },
  {
   "cell_type": "code",
   "execution_count": 42,
   "id": "c9d33d48",
   "metadata": {},
   "outputs": [
    {
     "data": {
      "text/plain": [
       "177403"
      ]
     },
     "execution_count": 42,
     "metadata": {},
     "output_type": "execute_result"
    }
   ],
   "source": [
    "new_df.shape[0]"
   ]
  },
  {
   "cell_type": "code",
   "execution_count": 43,
   "id": "f9dee82d",
   "metadata": {},
   "outputs": [
    {
     "name": "stdout",
     "output_type": "stream",
     "text": [
      "0.0    90000\n",
      "1.0    87403\n",
      "Name: fraud, dtype: int64\n"
     ]
    }
   ],
   "source": [
    "## # Shuffle the rows of the concatenated dataframe\n",
    "new_df = new_df.sample(frac=1).reset_index(drop=True)\n",
    "counts = new_df['fraud'].value_counts()\n",
    "print(counts) "
   ]
  },
  {
   "cell_type": "code",
   "execution_count": 44,
   "id": "8ff3074a",
   "metadata": {},
   "outputs": [
    {
     "data": {
      "text/html": [
       "<div>\n",
       "<style scoped>\n",
       "    .dataframe tbody tr th:only-of-type {\n",
       "        vertical-align: middle;\n",
       "    }\n",
       "\n",
       "    .dataframe tbody tr th {\n",
       "        vertical-align: top;\n",
       "    }\n",
       "\n",
       "    .dataframe thead th {\n",
       "        text-align: right;\n",
       "    }\n",
       "</style>\n",
       "<table border=\"1\" class=\"dataframe\">\n",
       "  <thead>\n",
       "    <tr style=\"text-align: right;\">\n",
       "      <th></th>\n",
       "      <th>distance_from_home</th>\n",
       "      <th>distance_from_last_transaction</th>\n",
       "      <th>ratio_to_median_purchase_price</th>\n",
       "      <th>repeat_retailer</th>\n",
       "      <th>used_chip</th>\n",
       "      <th>used_pin_number</th>\n",
       "      <th>online_order</th>\n",
       "      <th>fraud</th>\n",
       "      <th>double_secure</th>\n",
       "    </tr>\n",
       "  </thead>\n",
       "  <tbody>\n",
       "    <tr>\n",
       "      <th>0</th>\n",
       "      <td>6.610786</td>\n",
       "      <td>0.124338</td>\n",
       "      <td>0.976709</td>\n",
       "      <td>1.0</td>\n",
       "      <td>1.0</td>\n",
       "      <td>0.0</td>\n",
       "      <td>0.0</td>\n",
       "      <td>0.0</td>\n",
       "      <td>0.0</td>\n",
       "    </tr>\n",
       "    <tr>\n",
       "      <th>1</th>\n",
       "      <td>4.041707</td>\n",
       "      <td>7.685135</td>\n",
       "      <td>0.321138</td>\n",
       "      <td>1.0</td>\n",
       "      <td>0.0</td>\n",
       "      <td>0.0</td>\n",
       "      <td>1.0</td>\n",
       "      <td>0.0</td>\n",
       "      <td>0.0</td>\n",
       "    </tr>\n",
       "    <tr>\n",
       "      <th>2</th>\n",
       "      <td>2.563637</td>\n",
       "      <td>4.733689</td>\n",
       "      <td>5.572324</td>\n",
       "      <td>1.0</td>\n",
       "      <td>0.0</td>\n",
       "      <td>0.0</td>\n",
       "      <td>1.0</td>\n",
       "      <td>1.0</td>\n",
       "      <td>0.0</td>\n",
       "    </tr>\n",
       "    <tr>\n",
       "      <th>3</th>\n",
       "      <td>23.010275</td>\n",
       "      <td>0.165276</td>\n",
       "      <td>0.623648</td>\n",
       "      <td>1.0</td>\n",
       "      <td>0.0</td>\n",
       "      <td>0.0</td>\n",
       "      <td>0.0</td>\n",
       "      <td>0.0</td>\n",
       "      <td>0.0</td>\n",
       "    </tr>\n",
       "    <tr>\n",
       "      <th>4</th>\n",
       "      <td>21.942075</td>\n",
       "      <td>68.512035</td>\n",
       "      <td>16.199663</td>\n",
       "      <td>1.0</td>\n",
       "      <td>1.0</td>\n",
       "      <td>0.0</td>\n",
       "      <td>0.0</td>\n",
       "      <td>1.0</td>\n",
       "      <td>0.0</td>\n",
       "    </tr>\n",
       "  </tbody>\n",
       "</table>\n",
       "</div>"
      ],
      "text/plain": [
       "   distance_from_home  distance_from_last_transaction  \\\n",
       "0            6.610786                        0.124338   \n",
       "1            4.041707                        7.685135   \n",
       "2            2.563637                        4.733689   \n",
       "3           23.010275                        0.165276   \n",
       "4           21.942075                       68.512035   \n",
       "\n",
       "   ratio_to_median_purchase_price  repeat_retailer  used_chip  \\\n",
       "0                        0.976709              1.0        1.0   \n",
       "1                        0.321138              1.0        0.0   \n",
       "2                        5.572324              1.0        0.0   \n",
       "3                        0.623648              1.0        0.0   \n",
       "4                       16.199663              1.0        1.0   \n",
       "\n",
       "   used_pin_number  online_order  fraud  double_secure  \n",
       "0              0.0           0.0    0.0            0.0  \n",
       "1              0.0           1.0    0.0            0.0  \n",
       "2              0.0           1.0    1.0            0.0  \n",
       "3              0.0           0.0    0.0            0.0  \n",
       "4              0.0           0.0    1.0            0.0  "
      ]
     },
     "execution_count": 44,
     "metadata": {},
     "output_type": "execute_result"
    }
   ],
   "source": [
    "new_df.head()"
   ]
  },
  {
   "cell_type": "code",
   "execution_count": 45,
   "id": "00198657",
   "metadata": {},
   "outputs": [],
   "source": [
    "df = new_df.copy()\n"
   ]
  },
  {
   "cell_type": "code",
   "execution_count": 46,
   "id": "11c46fc2",
   "metadata": {},
   "outputs": [],
   "source": [
    "scale_df = df[['distance_from_home', 'distance_from_last_transaction',\n",
    "       'ratio_to_median_purchase_price']]\n",
    "\n",
    "binary_df = df[['repeat_retailer', 'used_chip', 'used_pin_number', 'online_order', 'double_secure', 'fraud']]"
   ]
  },
  {
   "cell_type": "code",
   "execution_count": 47,
   "id": "2fb10a18",
   "metadata": {},
   "outputs": [
    {
     "name": "stdout",
     "output_type": "stream",
     "text": [
      "<class 'numpy.ndarray'>\n",
      "The size of the numpy array is: (177403, 3)\n"
     ]
    }
   ],
   "source": [
    "data = scale_df.values\n",
    "\n",
    "print(type(data))\n",
    "print('The size of the numpy array is:', data.shape)"
   ]
  },
  {
   "cell_type": "code",
   "execution_count": 48,
   "id": "71a4acba",
   "metadata": {},
   "outputs": [
    {
     "name": "stdout",
     "output_type": "stream",
     "text": [
      "<class 'numpy.ndarray'>\n",
      "The size of the numpy array is: (177403, 6)\n"
     ]
    }
   ],
   "source": [
    "binary_data = binary_df.values\n",
    "\n",
    "print(type(data))\n",
    "print('The size of the numpy array is:', binary_data.shape)"
   ]
  },
  {
   "cell_type": "code",
   "execution_count": 49,
   "id": "984e2e33",
   "metadata": {},
   "outputs": [],
   "source": [
    "from sklearn.preprocessing import StandardScaler\n",
    "\n",
    "def scale_data(data):\n",
    "    scaler = StandardScaler()\n",
    "    return scaler.fit_transform(data)"
   ]
  },
  {
   "cell_type": "code",
   "execution_count": 50,
   "id": "63f484ee",
   "metadata": {},
   "outputs": [],
   "source": [
    "scaled_data = scale_data(data)"
   ]
  },
  {
   "cell_type": "code",
   "execution_count": 51,
   "id": "28c3865f",
   "metadata": {},
   "outputs": [
    {
     "data": {
      "text/plain": [
       "array([[-0.36548128, -0.22644526, -0.57035107],\n",
       "       [-0.39039302, -0.02179989, -0.70854971],\n",
       "       [-0.40472552, -0.10168563,  0.39843535],\n",
       "       ...,\n",
       "       [-0.25301529, -0.06799725, -0.59088341],\n",
       "       [-0.39706274, -0.09054665, -0.69630816],\n",
       "       [-0.11406888,  2.3673731 , -0.64827251]])"
      ]
     },
     "execution_count": 51,
     "metadata": {},
     "output_type": "execute_result"
    }
   ],
   "source": [
    "scaled_data"
   ]
  },
  {
   "cell_type": "code",
   "execution_count": 52,
   "id": "fd6c43dc",
   "metadata": {},
   "outputs": [
    {
     "name": "stdout",
     "output_type": "stream",
     "text": [
      "The size of the numpy array is (177403, 9)\n"
     ]
    }
   ],
   "source": [
    "data = np.column_stack((scaled_data, binary_data))\n",
    "\n",
    "print(\"The size of the numpy array is\", data.shape)"
   ]
  },
  {
   "cell_type": "code",
   "execution_count": 53,
   "id": "da490ad9",
   "metadata": {},
   "outputs": [
    {
     "name": "stdout",
     "output_type": "stream",
     "text": [
      "[[-0.36548128 -0.22644526 -0.57035107  1.          1.          0.\n",
      "   0.          0.          0.        ]\n",
      " [-0.39039302 -0.02179989 -0.70854971  1.          0.          0.\n",
      "   1.          0.          0.        ]\n",
      " [-0.40472552 -0.10168563  0.39843535  1.          0.          0.\n",
      "   1.          0.          1.        ]\n",
      " [-0.20645929 -0.22533721 -0.64477857  1.          0.          0.\n",
      "   0.          0.          0.        ]\n",
      " [-0.21681737  1.6245799   2.63874971  1.          1.          0.\n",
      "   0.          0.          1.        ]]\n"
     ]
    }
   ],
   "source": [
    "print(data[:5, :])"
   ]
  },
  {
   "cell_type": "code",
   "execution_count": 54,
   "id": "c5bb0d15",
   "metadata": {},
   "outputs": [
    {
     "name": "stdout",
     "output_type": "stream",
     "text": [
      "y_train: [1. 1. 1. ... 1. 0. 0.]\n",
      "y_test: [0. 1. 0. ... 1. 0. 0.]\n"
     ]
    }
   ],
   "source": [
    "from sklearn.model_selection import train_test_split\n",
    "from sklearn.ensemble import RandomForestClassifier\n",
    "# Create a sample data set\n",
    "X = data[:, 0:9]\n",
    "y = data[:, -1]\n",
    "\n",
    "# Split the data into training and testing sets\n",
    "X_train, X_test, y_train, y_test = train_test_split(X, y, test_size=0.3, random_state=42)\n",
    "\n",
    "print(\"y_train:\", y_train)\n",
    "print(\"y_test:\", y_test)"
   ]
  },
  {
   "cell_type": "code",
   "execution_count": 55,
   "id": "1694c8ec",
   "metadata": {},
   "outputs": [
    {
     "data": {
      "text/plain": [
       "RandomForestClassifier()"
      ]
     },
     "execution_count": 55,
     "metadata": {},
     "output_type": "execute_result"
    }
   ],
   "source": [
    "from sklearn.ensemble import RandomForestClassifier # for classification\n",
    "model = RandomForestClassifier(n_estimators=100)\n",
    "model.fit(X_train, y_train)"
   ]
  },
  {
   "cell_type": "code",
   "execution_count": 56,
   "id": "4dac7b20",
   "metadata": {},
   "outputs": [
    {
     "name": "stdout",
     "output_type": "stream",
     "text": [
      "Accuracy: 1.0\n"
     ]
    }
   ],
   "source": [
    "y_pred = model.predict(X_test)\n",
    "from sklearn.metrics import accuracy_score\n",
    "print(\"Accuracy:\", accuracy_score(y_test, y_pred))"
   ]
  },
  {
   "cell_type": "code",
   "execution_count": 57,
   "id": "e6c1462a",
   "metadata": {},
   "outputs": [
    {
     "name": "stdout",
     "output_type": "stream",
     "text": [
      "Precision: 1.0\n",
      "Recall: 1.0\n",
      "F1 Score: 1.0\n"
     ]
    }
   ],
   "source": [
    "# calculate precision, recall, F1-score, and support\n",
    "from sklearn.metrics import precision_recall_fscore_support\n",
    "\n",
    "precision, recall, f1_score, support = precision_recall_fscore_support(y_test, y_pred, average='binary')\n",
    "\n",
    "print(\"Precision:\", precision)\n",
    "print(\"Recall:\", recall)\n",
    "print(\"F1 Score:\", f1_score)"
   ]
  },
  {
   "cell_type": "code",
   "execution_count": null,
   "id": "0cd7ac44",
   "metadata": {},
   "outputs": [],
   "source": []
  }
 ],
 "metadata": {
  "kernelspec": {
   "display_name": "Python 3 (ipykernel)",
   "language": "python",
   "name": "python3"
  },
  "language_info": {
   "codemirror_mode": {
    "name": "ipython",
    "version": 3
   },
   "file_extension": ".py",
   "mimetype": "text/x-python",
   "name": "python",
   "nbconvert_exporter": "python",
   "pygments_lexer": "ipython3",
   "version": "3.9.13"
  }
 },
 "nbformat": 4,
 "nbformat_minor": 5
}
